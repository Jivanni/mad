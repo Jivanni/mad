{
 "metadata": {
  "language_info": {
   "codemirror_mode": {
    "name": "ipython",
    "version": 3
   },
   "file_extension": ".py",
   "mimetype": "text/x-python",
   "name": "python",
   "nbconvert_exporter": "python",
   "pygments_lexer": "ipython3",
   "version": "3.8.5-final"
  },
  "orig_nbformat": 2,
  "kernelspec": {
   "name": "python38564bit954be78878bf417d9b8f99cd504928cc",
   "display_name": "Python 3.8.5 64-bit"
  }
 },
 "nbformat": 4,
 "nbformat_minor": 2,
 "cells": [
  {
   "cell_type": "code",
   "execution_count": 1,
   "metadata": {},
   "outputs": [],
   "source": [
    "from docx import Document\n",
    "import re, pandas, copy, json"
   ]
  },
  {
   "cell_type": "code",
   "execution_count": 5,
   "metadata": {
    "tags": []
   },
   "outputs": [],
   "source": [
    "document = Document(\"domanda-messa-a-disposizione.docx\")\n",
    "scuole = open(\"Elenco Scuole Statali senza duplicati 2020-21.csv\")\n",
    "\n",
    "lista = pandas.read_csv(scuole, sep= \";\", header=0)"
   ]
  },
  {
   "cell_type": "code",
   "execution_count": 9,
   "metadata": {},
   "outputs": [],
   "source": [
    "user_data = {\n",
    "    \"nome\" : \"Giovanni\",\n",
    "    \"cognome\" : \"Cusumano\",\n",
    "    \"via\" : \"Via Pietro Novelli 5/c\",\n",
    "    \"cap_citta_mittente\" : \"95041 Caltagirone (CT)\",\n",
    "    \"nome_istituto\" : \"placeholder\",\n",
    "    \"luogo_nascita\" : \"Caltagirone\",\n",
    "    \"provincia_nascita\" : \"Catania\",\n",
    "    \"data_nascita\" : \"05/04/1994\",\n",
    "    \"luogo_residenza\" : \"95041 Via pietro novelli 5/c\",\n",
    "    \"leva\" : \"ESENTE\",\n",
    "    \"titoli\" :\"laurea\",\n",
    "    \"classi_concorso\" :\"inglese, scienze\",\n",
    "    \"data_contratto\" : \"11/09/2020\"\n",
    "}"
   ]
  },
  {
   "cell_type": "code",
   "execution_count": 11,
   "metadata": {},
   "outputs": [],
   "source": [
    "with open('user_data.json', 'w') as fp:\n",
    "    json.dump(user_data, fp, sort_keys=True, indent=4)"
   ]
  },
  {
   "cell_type": "code",
   "execution_count": 64,
   "metadata": {},
   "outputs": [],
   "source": [
    "def cleanup(string):\n",
    "    return re.sub(r\"\\\"\",\"\",string).strip()"
   ]
  },
  {
   "cell_type": "code",
   "execution_count": 65,
   "metadata": {},
   "outputs": [],
   "source": [
    "def display_doc(doc):\n",
    "    document = Document(doc)\n",
    "    for par in document.paragraphs:\n",
    "        print(par.text)"
   ]
  },
  {
   "cell_type": "code",
   "execution_count": 66,
   "metadata": {
    "tags": []
   },
   "outputs": [],
   "source": [
    "def fill_mad_doc(doc):\n",
    "    d = copy.deepcopy(doc)\n",
    "    for par in d.paragraphs:\n",
    "        par.text = par.text.format(user = user_data)\n",
    "    d.save(\"docs/{user[nome_istituto]}.docx\".format(user = user_data))"
   ]
  },
  {
   "cell_type": "code",
   "execution_count": 67,
   "metadata": {},
   "outputs": [],
   "source": [
    "def flitered_list(email,**kwargs):\n",
    "    email = lista.loc[:, [\"DENOMINAZIONESCUOLA\",'INDIRIZZOEMAILSCUOLA',\"INDIRIZZOPECSCUOLA\",\"REGIONE\",\"PROVINCIA\"]]\n",
    "    dic = email.to_dict(orient=\"index\")\n",
    "    filtered_dic = {key:value for key, value in dic.items() if dic[key][\"REGIONE\"] == kwargs[\"REGIONE\"] and dic[key][\"PROVINCIA\"] == kwargs[\"PROVINCIA\"]}\n",
    "    finale = []\n",
    "    for scuola_id in filtered_dic:\n",
    "        email = \"\"\n",
    "        if filtered_dic[scuola_id]['INDIRIZZOPECSCUOLA'] != \"Non Disponibile\":\n",
    "            email = filtered_dic[scuola_id]['INDIRIZZOPECSCUOLA']\n",
    "        else: email = filtered_dic[scuola_id]['INDIRIZZOEMAILSCUOLA']\n",
    "        finale.append([cleanup(filtered_dic[scuola_id][\"DENOMINAZIONESCUOLA\"]),email])\n",
    "    return finale"
   ]
  },
  {
   "cell_type": "code",
   "execution_count": 68,
   "metadata": {},
   "outputs": [],
   "source": [
    "def create_docs():\n",
    "    scuole_target = flitered_list(lista,REGIONE = \"SICILIA\", PROVINCIA =\"MESSINA\")\n",
    "    for i in range(len(scuole_target)):\n",
    "        user_data[\"nome_istituto\"] = scuole_target[i][0]\n",
    "        fill_mad_doc(document)"
   ]
  },
  {
   "cell_type": "code",
   "execution_count": 69,
   "metadata": {
    "tags": []
   },
   "outputs": [],
   "source": [
    "create_docs()"
   ]
  },
  {
   "cell_type": "code",
   "execution_count": 70,
   "metadata": {},
   "outputs": [
    {
     "output_type": "execute_result",
     "data": {
      "text/plain": "[['AINIS  MESSINA', 'mepm010009@pec.istruzione.it'],\n ['SAN GIORGIO', 'MEIC84400T@istruzione.it'],\n ['ARCHIMEDE MESSINA', 'meps010008@pec.istruzione.it'],\n ['LA FARINA - BASILE', 'MEIS03100X@pec.istruzione.it'],\n ['N. TOMMASEO', 'MEIC86700E@istruzione.it'],\n ['MAUROLICO MESSINA', 'MEIS02900X@pec.istruzione.it'],\n ['SEGUENZA MESSINA', 'meps03000d@pec.istruzione.it'],\n ['REITANO', 'MEIC84600D@istruzione.it'],\n ['S. FRATELLO', 'MEIC826008@istruzione.it'],\n [\"ALI' CENTRO\", 'MEIC83700P@istruzione.it'],\n ['BARCELLONA MEDI', 'MEIS03400B@istruzione.it'],\n ['VIA TRENTO', 'MEIC83900A@istruzione.it'],\n ['S. GIORGIO', 'MEIC83800E@istruzione.it'],\n ['CPIA MESSINA P.E. TAORMINA', 'MEMM574003@istruzione.it'],\n ['CPIA FONDACHELLI FANTINA', 'MEIC81600N@istruzione.it'],\n ['S. TERESA RIVA - CENTRO', 'MEEE06000T@istruzione.it'],\n ['MOTTA CAMASTRA', 'MEIC835003@istruzione.it'],\n ['DON ORIONE', 'MEIC85900G@istruzione.it'],\n ['GIUSEPPE CATALFAMO', 'meic89700a@pec.istruzione.it'],\n ['I. C. N. 2 GIOVANNI PAOLO II', 'meic83000x@pec.istruzione.it'],\n ['LUIGI BOER', 'MEIC893003@istruzione.it'],\n ['BISCONTE', 'MEIC864003@istruzione.it'],\n ['VIA CAIROLI', 'MEIC827004@istruzione.it'],\n ['GALA', 'MEIC899002@istruzione.it'],\n ['BAFIA', 'MEIC88100R@istruzione.it'],\n [\"FRAZ. CALDERA'\", 'MEIC82400L@istruzione.it'],\n ['CENTRO', 'MEIC876009@istruzione.it'],\n ['I.C. FOSCOLO', 'meic82500c@pec.istruzione.it'],\n ['R. LAMBRUSCHINI - GAGGI', 'MEIC83300B@istruzione.it'],\n ['S.M.GALLO MESSINA', 'MEIC89600E@istruzione.it'],\n ['MILITI', 'MEIC898006@istruzione.it'],\n ['CAPRERIA', 'MEIC89100B@istruzione.it'],\n ['FOSCOLO  MESSINA', 'MEIC88200L@istruzione.it'],\n ['FRANCESCO CRISPI', 'MEIC87300T@istruzione.it'],\n ['GARIBALDI  MILAZZO', 'MEIC88300C@istruzione.it'],\n ['PAGLIARA - ROCCHENERE', 'MEIC83200G@istruzione.it'],\n ['FRAZ. ALTOLIA', 'MEIC8AD002@istruzione.it'],\n ['MARCONI CARONIA', 'MEIC856004@istruzione.it'],\n ['SACRO CUORE', 'MEIC8AA00E@istruzione.it'],\n ['SCACCIA', 'MEIC8AB00A@istruzione.it'],\n ['E.CASTRONOVO', 'MEIC871006@istruzione.it'],\n ['BUON PASTORE - CRISTO RE', 'MEIC89400V@istruzione.it'],\n ['MARINA DI VENETICO', 'MEIC820009@istruzione.it'],\n ['PRINCIPE DI PIEMONTE', 'MEIC88700Q@istruzione.it'],\n ['S. ALESSIO SICULO', 'MEIC88900B@istruzione.it'],\n ['G.MARTINO', 'MEIC8AC006@istruzione.it'],\n ['LICEO ARTISTICO', 'MEIS01600T@istruzione.it'],\n ['LICEO SCIENTIFICOSCIENZE APPLICATE', 'MEIS00300Q@istruzione.it'],\n ['I.I.S.S. PUGLIATTI  TAORMINA', 'MEIS03300G@istruzione.it'],\n ['LICEO SCIENTIFICO BISAZZA', 'MEIS01300A@istruzione.it'],\n ['G. B. IMPALLOMENI', 'MEIS00200X@istruzione.it'],\n ['IST. PROF. AGRICOLT. AMB. (SERALE)', 'MEIS01100P@istruzione.it'],\n ['PIETRO CUPPARI', 'MEIS00900P@istruzione.it'],\n ['I.S.MISTRETTA MANZONI', 'meis001004@pec.istruzione.it'],\n ['I.T. L.DA VINCI ECONOMICO TECNOLOGICO', 'metd05000e@pec.istruzione.it'],\n ['I.T.T.L. CAIO DUILIO', 'meth01000t@pec.istruzione.it'],\n ['TOMMASO CANNIZZARO - PRIMARIA', 'MEIC86600P@istruzione.it'],\n ['DANTE ALIGHIERI', 'MEIC813006@istruzione.it'],\n [\"IC N.2 D'ACQUISTO\", 'meic851001@pec.istruzione.it'],\n ['IC VILLAFRANCA TIRRENA', 'meic819005@pec.istruzione.it'],\n ['GEPY FARANDA PATTI', 'MEIS023001@istruzione.it'],\n ['SEZ. SCIENTIFICA', 'MEIS00800V@istruzione.it'],\n ['MALFA', 'MEIC818009@istruzione.it'],\n ['E. MANCARI', 'MEIC834007@istruzione.it'],\n ['IST. TEC. ECONOMICO A.M.JACI', 'metd04000x@pec.istruzione.it'],\n ['RIONE S. LICANDRO', 'MEIC86500V@istruzione.it'],\n ['IST. TECNICO TURISMO GRAFICA ANTONELLO', 'MEIS019009@istruzione.it'],\n ['SCUOLA ELEM.GIOVANNI XXIII', 'MEIC87400N@istruzione.it'],\n ['BEATA EUSTOCHIA', 'MEIC8AE00T@istruzione.it'],\n ['CARMELO CAMINITI', 'MEIS03200Q@istruzione.it'],\n ['ISTITUTO TECNICO TECNOLOGICO E.MAJORANA', 'metf020001@pec.istruzione.it'],\n ['GEPY FARANDA NASO', 'MEIS02400R@istruzione.it'],\n ['ITET  G. TOMASI DI LAMPEDUSA - SERALE', 'METD110001@istruzione.it'],\n ['ITET E. FERMI ECONOMICO E TECNOLOGICO', 'metd08000a@pec.istruzione.it'],\n ['ITI S.AGATA M.LLO TORRICELLI', 'metf040006@pec.istruzione.it'],\n ['ITT-LSSA COPERNICO', 'metf03000g@pec.istruzione.it'],\n ['LICEO LUCIO PICCOLO', 'MEPS22000L@pec.istruzione.it'],\n ['VITTORIO EMANUELE III', 'MEPC060006@istruzione.it'],\n ['VULCANO', 'MEIC81700D@istruzione.it'],\n [\"FRAZZANO' PRIMARIA\", 'MEIC847009@istruzione.it'],\n ['CESAREO  S. AGATA MILITELLO', 'MEIC87900R@istruzione.it'],\n [\"FORZA D'AGRO'\", 'MEIC88600X@istruzione.it'],\n ['CRISTO RE', 'MEIC869006@istruzione.it'],\n ['SAN FILIPPO INFERIORE', 'MEIC86100G@istruzione.it'],\n ['SC.ELEMENTARE SS.ANNUNZIATA', 'MEIC822001@istruzione.it'],\n ['FRAZ. SPERONE', 'MEIC872002@istruzione.it'],\n ['PATTI MARINA', 'MEIC848005@istruzione.it'],\n ['ALCARA LI FUSI', 'MEIC885004@istruzione.it'],\n ['BELLINI', 'MEIC849001@istruzione.it'],\n ['N.4 G.LEOPARDIME', 'meic86200b@pec.istruzione.it'],\n ['MARINA-LUIGI PIRANDELLO', 'MEIC842006@istruzione.it'],\n ['PIETRO CUPPARI', 'MEVC01000C@istruzione.it'],\n [\"BASICO' - PIANO QUADRO\", 'MEIC878001@istruzione.it'],\n ['GALLUPPI  S. LUCIA DEL MELA', 'MEIC855008@istruzione.it'],\n ['ENRICO FERMI', 'MEIC85200R@istruzione.it'],\n ['SCUOLA PRIMARIA OLIVERI', 'MEIC85700X@istruzione.it'],\n ['PLUVIO  TORRENOVA', 'MEIC877005@istruzione.it'],\n ['PETTINEO', 'MEIC814002@istruzione.it'],\n ['IST. TECN. TECNOLOGICO VERONA TRENTO', 'MEIS027008@istruzione.it']]"
     },
     "metadata": {},
     "execution_count": 70
    }
   ],
   "source": [
    "flitered_list(lista,REGIONE = \"SICILIA\", PROVINCIA =\"MESSINA\")"
   ]
  },
  {
   "cell_type": "code",
   "execution_count": null,
   "metadata": {},
   "outputs": [],
   "source": []
  }
 ]
}