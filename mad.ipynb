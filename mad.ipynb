{
 "metadata": {
  "language_info": {
   "codemirror_mode": {
    "name": "ipython",
    "version": 3
   },
   "file_extension": ".py",
   "mimetype": "text/x-python",
   "name": "python",
   "nbconvert_exporter": "python",
   "pygments_lexer": "ipython3",
   "version": "3.8.5-final"
  },
  "orig_nbformat": 2,
  "kernelspec": {
   "name": "python38564bit954be78878bf417d9b8f99cd504928cc",
   "display_name": "Python 3.8.5 64-bit"
  }
 },
 "nbformat": 4,
 "nbformat_minor": 2,
 "cells": [
  {
   "cell_type": "code",
   "execution_count": null,
   "metadata": {},
   "outputs": [],
   "source": [
    "from docx import Document\n",
    "import re, pandas"
   ]
  },
  {
   "cell_type": "code",
   "execution_count": 83,
   "metadata": {
    "tags": []
   },
   "outputs": [],
   "source": [
    "document = Document(\"domanda-messa-a-disposizione.docx\")\n",
    "scuole = open(\"Elenco Scuole Statali senza duplicati 2020-21.csv\")\n",
    "\n",
    "lista = pandas.read_csv(scuole, sep= \";\", header=0)"
   ]
  },
  {
   "cell_type": "code",
   "execution_count": 85,
   "metadata": {},
   "outputs": [],
   "source": [
    "user_data = {\n",
    "    \"nome\" : \"Salvatore\",\n",
    "    \"cognome\" : \"Cusumano\",\n",
    "    \"via\" : \"dsd\",\n",
    "    \"cap_citta_mittente\" : \"95041 Via pietro novelli 5/c\",\n",
    "    \"nome_istituto\" : \"ettore\",\n",
    "    \"luogo_nascita\" : \"Caltagirone\",\n",
    "    \"provincia_nascita\" : \"Catania\",\n",
    "    \"data_nascita\" : \"05/04/1994\",\n",
    "    \"luogo_residenza\" : \"95041 Via pietro novelli 5/c\",\n",
    "    \"leva\" : \"ESENTE\",\n",
    "    \"titoli\" :\"laurea\",\n",
    "    \"classi_concorso\" :\"inglese, scienze\",\n",
    "    \"data_contratto\" : \"oggi\"\n",
    "}"
   ]
  },
  {
   "cell_type": "code",
   "execution_count": 86,
   "metadata": {},
   "outputs": [],
   "source": [
    "def display_doc(doc):\n",
    "    document = Document(doc)\n",
    "    for par in document.paragraphs:\n",
    "        print(par.text)"
   ]
  },
  {
   "cell_type": "code",
   "execution_count": 87,
   "metadata": {
    "tags": []
   },
   "outputs": [],
   "source": [
    "def fill_mad_doc(doc):\n",
    "    for par in document.paragraphs:\n",
    "        par.text = par.text.format(user = user_data)\n",
    "        print(par.text)\n",
    "    document.save(\"compilato.docx\")"
   ]
  },
  {
   "cell_type": "code",
   "execution_count": 88,
   "metadata": {
    "tags": []
   },
   "outputs": [
    {
     "output_type": "stream",
     "name": "stdout",
     "text": "\n Mittente:\nSalvatore Cusumano\ndsd\n95041 Via pietro novelli 5/c\nal Dirigente Scolastico \nettore\nOggetto: Domanda di messa a disposizione per supplenze \nIl sottoscritto Salvatore Cusumano nato a Caltagirone\nProv. Catania il 05/04/1994 e residente a 95041 Via pietro novelli 5/c; \nconsapevole delle sanzioni penali, nel caso di dichiarazioni non veritiere, di formazione o uso di atti falsi, richiamate dall’art. 76 del D.P.R. 28/12/2000 n.445, così come modificato e integrato dall’art. 15 della Legge 16/1/2003 n.3; \nDICHIARA \ndi essere cittadino/a italiano/a; \ndi godere dei diritti civili e politici; \ndi essere nella seguente posizione agli effetti e adempimenti degli obblighi militari: ESENTE\ndi non aver riportato condanne penali e di non essere destinatario di provvedimenti che riguardano l’applicazione di misure di prevenzione, di decisioni civili e di provvedimenti amministrativi iscritti nel casellario giudiziale ai sensi della normativa vigente; \ndi non essere sottoposto a procedimenti penali; \ndi possedere il seguente titolo di studio: \nlaurea\ndi essere disponibile a stipulare un contratto a tempo determinato presso codesta istituzione scolastica per l’insegnamento, ovvero gli insegnamenti, di \ninglese, scienze\n\nData oggi\t\t\t\t\t\t\t\t\tFIRMA\n_____________________________\n"
    }
   ],
   "source": [
    "fill_mad_doc(document)"
   ]
  },
  {
   "cell_type": "code",
   "execution_count": 89,
   "metadata": {},
   "outputs": [
    {
     "output_type": "error",
     "ename": "NameError",
     "evalue": "name 'nome' is not defined",
     "traceback": [
      "\u001b[1;31m---------------------------------------------------------------------------\u001b[0m",
      "\u001b[1;31mNameError\u001b[0m                                 Traceback (most recent call last)",
      "\u001b[1;32m<ipython-input-89-e86c746677d8>\u001b[0m in \u001b[0;36m<module>\u001b[1;34m\u001b[0m\n\u001b[0;32m      1\u001b[0m \u001b[0memail\u001b[0m \u001b[1;33m=\u001b[0m \u001b[1;33m{\u001b[0m\u001b[0mnome\u001b[0m\u001b[1;33m:\u001b[0m\u001b[0mmail\u001b[0m \u001b[1;32mfor\u001b[0m \u001b[0mnome\u001b[0m \u001b[1;32min\u001b[0m \u001b[0mlista\u001b[0m\u001b[1;33m.\u001b[0m\u001b[0mget\u001b[0m\u001b[1;33m(\u001b[0m\u001b[1;34m'DENOMINAZIONEISTITUTORIFERIMENTO'\u001b[0m\u001b[1;33m)\u001b[0m \u001b[1;32mfor\u001b[0m \u001b[0mmail\u001b[0m \u001b[1;32min\u001b[0m \u001b[0mlista\u001b[0m\u001b[1;33m.\u001b[0m\u001b[0mget\u001b[0m\u001b[1;33m(\u001b[0m\u001b[1;34m'INDIRIZZOEMAILSCUOLA'\u001b[0m\u001b[1;33m)\u001b[0m\u001b[1;33m}\u001b[0m\u001b[1;33m\u001b[0m\u001b[1;33m\u001b[0m\u001b[0m\n\u001b[1;32m----> 2\u001b[1;33m \u001b[0mpecs\u001b[0m \u001b[1;33m=\u001b[0m \u001b[1;33m{\u001b[0m\u001b[0mnome\u001b[0m\u001b[1;33m:\u001b[0m\u001b[0mpec\u001b[0m\u001b[1;33m}\u001b[0m\u001b[1;33m\u001b[0m\u001b[1;33m\u001b[0m\u001b[0m\n\u001b[0m",
      "\u001b[1;31mNameError\u001b[0m: name 'nome' is not defined"
     ]
    }
   ],
   "source": [
    "email = {nome:mail for nome in lista.get('DENOMINAZIONEISTITUTORIFERIMENTO') for mail in lista.get('INDIRIZZOEMAILSCUOLA')}\n",
    "pecs = {nome:pec}"
   ]
  },
  {
   "cell_type": "code",
   "execution_count": 90,
   "metadata": {},
   "outputs": [
    {
     "output_type": "execute_result",
     "data": {
      "text/plain": "      REGIONE PROVINCIA DENOMINAZIONEISTITUTORIFERIMENTO CODICESCUOLA  \\\n0     ABRUZZO    CHIETI                     \" L. SAVOIA\"   CHIS012006   \n1     ABRUZZO    CHIETI      \"ACCIAIUOLI-EINAUDI\" ORTONA   CHTH018015   \n2     ABRUZZO    CHIETI               \"DE TITTA - FERMI\"   CHPM01901C   \n3     ABRUZZO    CHIETI               \"F. PALIZZI\" VASTO   CHTD04000G   \n4     ABRUZZO    CHIETI             ALGERI MARINO CASOLI   CHRI003013   \n...       ...       ...                              ...          ...   \n8465   VENETO   VICENZA   LICEO \"DON GIUSEPPE FOGAZZARO\"   VIPM010008   \n8466   VENETO   VICENZA    LICEO ARTISTICO \"G.DE FABRIS\"   VISD020008   \n8467   VENETO   VICENZA                  LS \"G.B.QUADRI\"   VIPS05000N   \n8468   VENETO   VICENZA                     LS \"P. LIOY\"   VIPS02000T   \n8469   VENETO   VICENZA               LS JACOPO DA PONTE   VIPS010007   \n\n                 DENOMINAZIONESCUOLA                INDIRIZZOSCUOLA CAPSCUOLA  \\\n0                       \" L. SAVOIA\"    VIA E. GAETANI D'ARAGONA 21     66100   \n1             \"L. ACCIAIUOLI\" ORTONA                 VIA MAZZINI 26     66026   \n2                    CESARE DE TITTA    PIAZZA MARTIRI VI OTTOBRE 1     66034   \n3                 \"F. PALIZZI\" VASTO            VIA DEI CONTI RICCI     66054   \n4                             CASOLI           VIA DEL CAMPO S.N.C.     66043   \n...                              ...                            ...       ...   \n8465  LICEO \"DON GIUSEPPE FOGAZZARO\"               CONTRA' BURCI 21     36100   \n8466   LICEO ARTISTICO \"G.DE FABRIS\"                    VIA GIOVE 1     36055   \n8467                 LS \"G.B.QUADRI\"      VIALE GIOSUE' CARDUCCI 17     36100   \n8468                    LS \"P. LIOY\"            CONTRA' CORDENONS 7     36100   \n8469              LS JACOPO DA PONTE  VIALE SAN TOMMASO D AQUINO 12     36061   \n\n       DESCRIZIONECOMUNE DESCRIZIONETIPOLOGIAGRADOISTRUZIONESCUOLA  \\\n0                 CHIETI                        ISTITUTO SUPERIORE   \n1                 ORTONA                  ISTITUTO TECNICO NAUTICO   \n2               LANCIANO                       ISTITUTO MAGISTRALE   \n3                  VASTO        IST TEC COMMERCIALE E PER GEOMETRI   \n4                 CASOLI          IST PROF INDUSTRIA E ARTIGIANATO   \n...                  ...                                       ...   \n8465             VICENZA                       ISTITUTO MAGISTRALE   \n8466                NOVE                           ISTITUTO D'ARTE   \n8467             VICENZA                         LICEO SCIENTIFICO   \n8468             VICENZA                         LICEO SCIENTIFICO   \n8469  BASSANO DEL GRAPPA                         LICEO SCIENTIFICO   \n\n          INDIRIZZOEMAILSCUOLA            INDIRIZZOPECSCUOLA  \\\n0     CHIS012006@istruzione.it  chis012006@pec.istruzione.it   \n1     CHIS018005@istruzione.it               Non Disponibile   \n2     CHIS019001@istruzione.it               Non Disponibile   \n3     CHTD04000G@istruzione.it  chtd04000g@pec.istruzione.it   \n4     CHIS00300B@istruzione.it               Non Disponibile   \n...                        ...                           ...   \n8465  VIPM010008@istruzione.it  vipm010008@pec.istruzione.it   \n8466  VISD020008@istruzione.it  visd020008@pec.istruzione.it   \n8467  VIPS05000N@istruzione.it  vips05000n@pec.istruzione.it   \n8468  VIPS02000T@istruzione.it  vips02000t@pec.istruzione.it   \n8469  VIPS010007@istruzione.it  vips010007@pec.istruzione.it   \n\n                     SITOWEBSCUOLA  \n0                  Non Disponibile  \n1      www.iispomiliochieti.gov.it  \n2             www.itetfermi.gov.it  \n3              www.itcgpalizzi.com  \n4       www.iisalgerimarino.edu.it  \n...                            ...  \n8465    http//www.fogazzaro.edu.it  \n8466  www.liceoartisticonove.vi.it  \n8467            www.liceoquadri.it  \n8468          WWW.LICEOLIOY.GOV.IT  \n8469       www.liceodaponte.gov.it  \n\n[8470 rows x 12 columns]",
      "text/html": "<div>\n<style scoped>\n    .dataframe tbody tr th:only-of-type {\n        vertical-align: middle;\n    }\n\n    .dataframe tbody tr th {\n        vertical-align: top;\n    }\n\n    .dataframe thead th {\n        text-align: right;\n    }\n</style>\n<table border=\"1\" class=\"dataframe\">\n  <thead>\n    <tr style=\"text-align: right;\">\n      <th></th>\n      <th>REGIONE</th>\n      <th>PROVINCIA</th>\n      <th>DENOMINAZIONEISTITUTORIFERIMENTO</th>\n      <th>CODICESCUOLA</th>\n      <th>DENOMINAZIONESCUOLA</th>\n      <th>INDIRIZZOSCUOLA</th>\n      <th>CAPSCUOLA</th>\n      <th>DESCRIZIONECOMUNE</th>\n      <th>DESCRIZIONETIPOLOGIAGRADOISTRUZIONESCUOLA</th>\n      <th>INDIRIZZOEMAILSCUOLA</th>\n      <th>INDIRIZZOPECSCUOLA</th>\n      <th>SITOWEBSCUOLA</th>\n    </tr>\n  </thead>\n  <tbody>\n    <tr>\n      <th>0</th>\n      <td>ABRUZZO</td>\n      <td>CHIETI</td>\n      <td>\" L. SAVOIA\"</td>\n      <td>CHIS012006</td>\n      <td>\" L. SAVOIA\"</td>\n      <td>VIA E. GAETANI D'ARAGONA 21</td>\n      <td>66100</td>\n      <td>CHIETI</td>\n      <td>ISTITUTO SUPERIORE</td>\n      <td>CHIS012006@istruzione.it</td>\n      <td>chis012006@pec.istruzione.it</td>\n      <td>Non Disponibile</td>\n    </tr>\n    <tr>\n      <th>1</th>\n      <td>ABRUZZO</td>\n      <td>CHIETI</td>\n      <td>\"ACCIAIUOLI-EINAUDI\" ORTONA</td>\n      <td>CHTH018015</td>\n      <td>\"L. ACCIAIUOLI\" ORTONA</td>\n      <td>VIA MAZZINI 26</td>\n      <td>66026</td>\n      <td>ORTONA</td>\n      <td>ISTITUTO TECNICO NAUTICO</td>\n      <td>CHIS018005@istruzione.it</td>\n      <td>Non Disponibile</td>\n      <td>www.iispomiliochieti.gov.it</td>\n    </tr>\n    <tr>\n      <th>2</th>\n      <td>ABRUZZO</td>\n      <td>CHIETI</td>\n      <td>\"DE TITTA - FERMI\"</td>\n      <td>CHPM01901C</td>\n      <td>CESARE DE TITTA</td>\n      <td>PIAZZA MARTIRI VI OTTOBRE 1</td>\n      <td>66034</td>\n      <td>LANCIANO</td>\n      <td>ISTITUTO MAGISTRALE</td>\n      <td>CHIS019001@istruzione.it</td>\n      <td>Non Disponibile</td>\n      <td>www.itetfermi.gov.it</td>\n    </tr>\n    <tr>\n      <th>3</th>\n      <td>ABRUZZO</td>\n      <td>CHIETI</td>\n      <td>\"F. PALIZZI\" VASTO</td>\n      <td>CHTD04000G</td>\n      <td>\"F. PALIZZI\" VASTO</td>\n      <td>VIA DEI CONTI RICCI</td>\n      <td>66054</td>\n      <td>VASTO</td>\n      <td>IST TEC COMMERCIALE E PER GEOMETRI</td>\n      <td>CHTD04000G@istruzione.it</td>\n      <td>chtd04000g@pec.istruzione.it</td>\n      <td>www.itcgpalizzi.com</td>\n    </tr>\n    <tr>\n      <th>4</th>\n      <td>ABRUZZO</td>\n      <td>CHIETI</td>\n      <td>ALGERI MARINO CASOLI</td>\n      <td>CHRI003013</td>\n      <td>CASOLI</td>\n      <td>VIA DEL CAMPO S.N.C.</td>\n      <td>66043</td>\n      <td>CASOLI</td>\n      <td>IST PROF INDUSTRIA E ARTIGIANATO</td>\n      <td>CHIS00300B@istruzione.it</td>\n      <td>Non Disponibile</td>\n      <td>www.iisalgerimarino.edu.it</td>\n    </tr>\n    <tr>\n      <th>...</th>\n      <td>...</td>\n      <td>...</td>\n      <td>...</td>\n      <td>...</td>\n      <td>...</td>\n      <td>...</td>\n      <td>...</td>\n      <td>...</td>\n      <td>...</td>\n      <td>...</td>\n      <td>...</td>\n      <td>...</td>\n    </tr>\n    <tr>\n      <th>8465</th>\n      <td>VENETO</td>\n      <td>VICENZA</td>\n      <td>LICEO \"DON GIUSEPPE FOGAZZARO\"</td>\n      <td>VIPM010008</td>\n      <td>LICEO \"DON GIUSEPPE FOGAZZARO\"</td>\n      <td>CONTRA' BURCI 21</td>\n      <td>36100</td>\n      <td>VICENZA</td>\n      <td>ISTITUTO MAGISTRALE</td>\n      <td>VIPM010008@istruzione.it</td>\n      <td>vipm010008@pec.istruzione.it</td>\n      <td>http//www.fogazzaro.edu.it</td>\n    </tr>\n    <tr>\n      <th>8466</th>\n      <td>VENETO</td>\n      <td>VICENZA</td>\n      <td>LICEO ARTISTICO \"G.DE FABRIS\"</td>\n      <td>VISD020008</td>\n      <td>LICEO ARTISTICO \"G.DE FABRIS\"</td>\n      <td>VIA GIOVE 1</td>\n      <td>36055</td>\n      <td>NOVE</td>\n      <td>ISTITUTO D'ARTE</td>\n      <td>VISD020008@istruzione.it</td>\n      <td>visd020008@pec.istruzione.it</td>\n      <td>www.liceoartisticonove.vi.it</td>\n    </tr>\n    <tr>\n      <th>8467</th>\n      <td>VENETO</td>\n      <td>VICENZA</td>\n      <td>LS \"G.B.QUADRI\"</td>\n      <td>VIPS05000N</td>\n      <td>LS \"G.B.QUADRI\"</td>\n      <td>VIALE GIOSUE' CARDUCCI 17</td>\n      <td>36100</td>\n      <td>VICENZA</td>\n      <td>LICEO SCIENTIFICO</td>\n      <td>VIPS05000N@istruzione.it</td>\n      <td>vips05000n@pec.istruzione.it</td>\n      <td>www.liceoquadri.it</td>\n    </tr>\n    <tr>\n      <th>8468</th>\n      <td>VENETO</td>\n      <td>VICENZA</td>\n      <td>LS \"P. LIOY\"</td>\n      <td>VIPS02000T</td>\n      <td>LS \"P. LIOY\"</td>\n      <td>CONTRA' CORDENONS 7</td>\n      <td>36100</td>\n      <td>VICENZA</td>\n      <td>LICEO SCIENTIFICO</td>\n      <td>VIPS02000T@istruzione.it</td>\n      <td>vips02000t@pec.istruzione.it</td>\n      <td>WWW.LICEOLIOY.GOV.IT</td>\n    </tr>\n    <tr>\n      <th>8469</th>\n      <td>VENETO</td>\n      <td>VICENZA</td>\n      <td>LS JACOPO DA PONTE</td>\n      <td>VIPS010007</td>\n      <td>LS JACOPO DA PONTE</td>\n      <td>VIALE SAN TOMMASO D AQUINO 12</td>\n      <td>36061</td>\n      <td>BASSANO DEL GRAPPA</td>\n      <td>LICEO SCIENTIFICO</td>\n      <td>VIPS010007@istruzione.it</td>\n      <td>vips010007@pec.istruzione.it</td>\n      <td>www.liceodaponte.gov.it</td>\n    </tr>\n  </tbody>\n</table>\n<p>8470 rows × 12 columns</p>\n</div>"
     },
     "metadata": {},
     "execution_count": 90
    }
   ],
   "source": [
    "lista"
   ]
  },
  {
   "cell_type": "code",
   "execution_count": null,
   "metadata": {},
   "outputs": [],
   "source": []
  }
 ]
}