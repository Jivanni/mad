{
 "metadata": {
  "language_info": {
   "codemirror_mode": {
    "name": "ipython",
    "version": 3
   },
   "file_extension": ".py",
   "mimetype": "text/x-python",
   "name": "python",
   "nbconvert_exporter": "python",
   "pygments_lexer": "ipython3",
   "version": "3.8.5-final"
  },
  "orig_nbformat": 2,
  "kernelspec": {
   "name": "python38564bit954be78878bf417d9b8f99cd504928cc",
   "display_name": "Python 3.8.5 64-bit"
  }
 },
 "nbformat": 4,
 "nbformat_minor": 2,
 "cells": [
  {
   "cell_type": "code",
   "execution_count": 130,
   "metadata": {},
   "outputs": [],
   "source": [
    "from docx import Document\n",
    "import re, pandas"
   ]
  },
  {
   "cell_type": "code",
   "execution_count": 131,
   "metadata": {
    "tags": []
   },
   "outputs": [],
   "source": [
    "document = Document(\"domanda-messa-a-disposizione.docx\")\n",
    "scuole = open(\"Elenco Scuole Statali senza duplicati 2020-21.csv\")\n",
    "\n",
    "lista = pandas.read_csv(scuole, sep= \";\", header=0)"
   ]
  },
  {
   "cell_type": "code",
   "execution_count": 132,
   "metadata": {},
   "outputs": [],
   "source": [
    "user_data = {\n",
    "    \"nome\" : \"Salvatore\",\n",
    "    \"cognome\" : \"Cusumano\",\n",
    "    \"via\" : \"dsd\",\n",
    "    \"cap_citta_mittente\" : \"95041 Via pietro novelli 5/c\",\n",
    "    \"nome_istituto\" : \"ettore\",\n",
    "    \"luogo_nascita\" : \"Caltagirone\",\n",
    "    \"provincia_nascita\" : \"Catania\",\n",
    "    \"data_nascita\" : \"05/04/1994\",\n",
    "    \"luogo_residenza\" : \"95041 Via pietro novelli 5/c\",\n",
    "    \"leva\" : \"ESENTE\",\n",
    "    \"titoli\" :\"laurea\",\n",
    "    \"classi_concorso\" :\"inglese, scienze\",\n",
    "    \"data_contratto\" : \"oggi\"\n",
    "}"
   ]
  },
  {
   "cell_type": "code",
   "execution_count": 133,
   "metadata": {},
   "outputs": [],
   "source": [
    "def display_doc(doc):\n",
    "    document = Document(doc)\n",
    "    for par in document.paragraphs:\n",
    "        print(par.text)"
   ]
  },
  {
   "cell_type": "code",
   "execution_count": 134,
   "metadata": {
    "tags": []
   },
   "outputs": [],
   "source": [
    "def fill_mad_doc(doc):\n",
    "    for par in document.paragraphs:\n",
    "        par.text = par.text.format(user = user_data)\n",
    "        print(par.text)\n",
    "    document.save(\"compilato.docx\")"
   ]
  },
  {
   "cell_type": "code",
   "execution_count": 135,
   "metadata": {},
   "outputs": [],
   "source": [
    "email = lista.loc[:, [\"DENOMINAZIONESCUOLA\",'INDIRIZZOEMAILSCUOLA',\"INDIRIZZOPECSCUOLA\",\"REGIONE\",\"PROVINCIA\"]]"
   ]
  },
  {
   "cell_type": "code",
   "execution_count": 136,
   "metadata": {},
   "outputs": [],
   "source": [
    "def flitered_list(email,**kwargs):\n",
    "    dic = email.to_dict(orient=\"index\")\n",
    "    filtered_dic = {key:value for key, value in dic.items() if dic[key][\"REGIONE\"] == kwargs[\"REGIONE\"] and dic[key][\"PROVINCIA\"] == kwargs[\"PROVINCIA\"]}\n",
    "    finale = []\n",
    "    for scuola_id in filtered_dic:\n",
    "        email = \"\"\n",
    "        if filtered_dic[scuola_id]['INDIRIZZOPECSCUOLA'] != \"Non Disponibile\":\n",
    "            email = filtered_dic[scuola_id]['INDIRIZZOPECSCUOLA']\n",
    "        else: email = filtered_dic[scuola_id]['INDIRIZZOEMAILSCUOLA']\n",
    "        finale.append([filtered_dic[scuola_id][\"DENOMINAZIONESCUOLA\"],email])\n",
    "    return [i[1] for i in finale]"
   ]
  },
  {
   "cell_type": "code",
   "execution_count": 137,
   "metadata": {},
   "outputs": [
    {
     "output_type": "execute_result",
     "data": {
      "text/plain": "['ctic81200g@pec.istruzione.it',\n 'CTIC8A100Q@istruzione.it',\n 'CTIC89700G@istruzione.it',\n 'CTIC8A700P@istruzione.it',\n 'CTEE06700T@istruzione.it',\n 'CTEE06100V@istruzione.it',\n 'CTVC06000P@istruzione.it',\n 'CTEE04600R@istruzione.it',\n 'CTEE04800C@istruzione.it',\n 'CTEE008002@istruzione.it',\n 'CTEE073005@istruzione.it',\n 'CTEE036006@istruzione.it',\n 'CTEE022008@istruzione.it',\n 'CTEE06800N@istruzione.it',\n 'CTEE06900D@istruzione.it',\n 'CTEE01700R@istruzione.it',\n 'CTEE04700L@istruzione.it',\n 'CTEE087003@istruzione.it',\n 'CTEE045001@istruzione.it',\n 'CTEE081004@istruzione.it',\n 'CTEE044005@istruzione.it',\n 'CTEE08300Q@istruzione.it',\n 'CTEE028007@istruzione.it',\n 'CTMM150008@istruzione.it',\n 'CTMM151004@istruzione.it',\n 'CTIS016003@istruzione.it',\n 'CTIC8AJ00Q@istruzione.it',\n 'CTVC04000D@istruzione.it',\n 'ctic8a5003@pec.istruzione.it',\n 'CTIS044007@istruzione.it',\n 'CTEE04200D@istruzione.it',\n 'ctic8ar00a@pec.istruzione.it',\n 'CTIC8AT00B@istruzione.it',\n 'CTIC89100L@istruzione.it',\n 'CTIC8AM007@istruzione.it',\n 'CTIC8A4007@istruzione.it',\n 'ctic8ap00p@pec.istruzione.it',\n 'CTIC89800B@istruzione.it',\n 'CTIC80900Q@istruzione.it',\n 'CTIC86700Q@istruzione.it',\n 'CTIC822006@istruzione.it',\n 'CTIC8BA00A@istruzione.it',\n 'CTIC8AL00B@istruzione.it',\n 'CTIC88800R@istruzione.it',\n 'CTIC8AX00P@istruzione.it',\n 'CTIC8AK00G@istruzione.it',\n 'CTIC83700X@istruzione.it',\n 'CTIC8AG00P@istruzione.it',\n 'CTIC88200T@istruzione.it',\n 'CTIC8A900A@ISTRUZIONE.IT',\n 'CTIC8AQ00E@istruzione.it',\n 'CTIC8A800E@istruzione.it',\n 'CTIC82600D@istruzione.it',\n 'ctic85300t@pec.istruzione.it',\n 'ctic857005@pec.istruzione.it',\n 'CTIC8AY00E@istruzione.it',\n 'CTIC8AN003@istruzione.it',\n 'CTIC81300B@istruzione.it',\n 'ctic85900r@pec.istruzione.it',\n 'CTIS03900Q@istruzione.it',\n 'CTIS02600N@istruzione.it',\n 'ctrh03000c@pec.istruzione.it',\n 'CTIS04600V@istruzione.it',\n 'ctis04900a@pec.istruzione.it',\n 'CTIS03400L@istruzione.it',\n 'CTIS03800X@istruzione.it',\n 'CTIS03300R@istruzione.it',\n 'ctis01300g@pec.istruzione.it',\n 'CTIS04200G@istruzione.it',\n 'ctis04700p@pec.istruzione.it',\n 'CTIS007008@istruzione.it',\n 'cttd160007@pec.istruzione.it',\n 'ctic8ac00b@pec.istruzione.it',\n 'ctic835008@pec.istruzione.it',\n 'CTIC82000E@istruzione.it',\n 'CTIC82500N@istruzione.it',\n 'CTIC83900G@istruzione.it',\n 'CTIC86300C@istruzione.it',\n 'CTIC806008@istruzione.it',\n 'CTIC8AB00G@istruzione.it',\n 'CTIC89600Q@istruzione.it',\n 'CTIC852002@istruzione.it',\n 'CTIC84800A@istruzione.it',\n 'CTIC85000A@istruzione.it',\n 'CTIC88300N@istruzione.it',\n 'CTIC84500V@istruzione.it',\n 'CTIC864008@istruzione.it',\n 'CTIC84700E@istruzione.it',\n 'CTIC887001@istruzione.it',\n 'CTIC860001@istruzione.it',\n 'CTIC815003@istruzione.it',\n 'CTIC83400C@istruzione.it',\n 'CTIC880006@istruzione.it',\n 'CTIC87500P@istruzione.it',\n 'CTIC81600V@istruzione.it',\n 'CTIC84200B@istruzione.it',\n 'CTIC84100G@istruzione.it',\n 'ctic828005@pec.istruzione.it',\n 'CTIC893008@istruzione.it',\n 'CTIC82100A@istruzione.it',\n 'CTIC885009@istruzione.it',\n 'ctic89000r@pec.istruzione.it',\n 'ctic856009@pec.istruzione.it',\n 'CTIC81100Q@istruzione.it',\n 'ctic836004@pec.istruzione.it',\n 'CTIC80300R@istruzione.it',\n 'CTIC8A300B@istruzione.it',\n 'ctic8af00v@pec.istruzione.it',\n 'ctic86100r@pec.istruzione.it',\n 'CTIC894004@istruzione.it',\n 'CTIC80800X@istruzione.it',\n 'CTIC85500D@istruzione.it',\n 'CTIC823002@istruzione.it',\n 'CTIC88900L@istruzione.it',\n 'CTIC86200L@istruzione.it',\n 'CTIC83800Q@istruzione.it',\n 'CTIC8AD007@istruzione.it',\n 'CTIC899007@istruzione.it',\n 'CTIC814007@istruzione.it',\n 'CTIC8AE003@istruzione.it',\n 'CTIC886005@istruzione.it',\n 'ctic89200c@pec.istruzione.it',\n 'CTIC858001@istruzione.it',\n 'CTEE043009@istruzione.it',\n 'CTIC8AS00G@istruzione.it',\n 'CTIC830005@istruzione.it',\n 'CTIC8AZ00A@istruzione.it',\n 'CTIC8A200G@istruzione.it',\n 'CTIC8AU007@istruzione.it',\n 'CTEE09000V@istruzione.it',\n 'CTIC8A000X@istruzione.it',\n 'CTIS05100A@istruzione.it',\n 'CTIS00400R@istruzione.it',\n 'CTIS001009@istruzione.it',\n 'CTIS01100X@istruzione.it',\n 'ctpm04000a@pec.istruzione.it',\n 'ctrh010007@pec.istruzione.it',\n 'CTIS024002@istruzione.it',\n 'CTIS023006@istruzione.it',\n 'CTIS00600C@istruzione.it',\n 'CTIS008004@istruzione.it',\n 'CTIS01700V@istruzione.it',\n 'CTIS01200Q@istruzione.it',\n 'CTIS00900X@istruzione.it',\n 'CTTF01000G@istruzione.it',\n 'cttb01000a@pec.istruzione.it',\n 'cttf03000r@pec.istruzione.it',\n 'CTIC8AV003@istruzione.it',\n 'ctpc040006@pec.istruzione.it',\n 'CTPC03000G@istruzione.it',\n 'ctpc01000a@pec.istruzione.it',\n 'ctpc070002@pec.istruzione.it',\n 'ctsl01000a@pec.istruzione.it',\n 'ctsd02000e@pec.istruzione.it',\n 'ctps10000q@pec.istruzione.it',\n 'ctps06000e@pec.istruzione.it',\n 'ctpm020005@pec.istruzione.it',\n 'ctpm01000e@pec.istruzione.it',\n 'CTPM03000Q@istruzione.it',\n 'ctps01000d@pec.istruzione.it',\n 'ctps020004@pec.istruzione.it',\n 'CTIS04800E@istruzione.it',\n 'ctps03000p@pec.istruzione.it',\n 'ctps040009@pec.istruzione.it',\n 'ctps05000x@pec.istruzione.it',\n 'CTIS04300B@pec.istruzione.it',\n 'ctvc01000n@pec.istruzione.it',\n 'CTSL020001@istruzione.it',\n 'CTIC881002@istruzione.it',\n 'CTRH060008@istruzione.it',\n 'cttd18000c@pec.istruzione.it',\n 'CTRH05000N@pec.istruzione.it',\n 'CTIC8A600V@istruzione.it',\n 'CTIC83200R@istruzione.it',\n 'CTMM01300C@istruzione.it',\n 'ctmm029002@pec.istruzione.it',\n 'ctmm095001@pec.istruzione.it',\n 'ctmm119008@pec.istruzione.it',\n 'ctmm099008@pec.istruzione.it',\n 'ctmm064009@pec.istruzione.it',\n 'ctmm10300p@pec.istruzione.it',\n 'ctmm00300t@pec.istruzione.it',\n 'ctmm06700r@pec.istruzione.it',\n 'ctmm106006@pec.istruzione.it',\n 'CTIC81800E@istruzione.it',\n 'ctic8ah00e@pec.istruzione.it',\n 'CTIC81900A@istruzione.it']"
     },
     "metadata": {},
     "execution_count": 137
    }
   ],
   "source": [
    "flitered_list(lista,REGIONE = \"SICILIA\", PROVINCIA =\"CATANIA\")"
   ]
  },
  {
   "cell_type": "code",
   "execution_count": null,
   "metadata": {},
   "outputs": [],
   "source": []
  }
 ]
}