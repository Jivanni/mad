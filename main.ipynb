{
 "metadata": {
  "language_info": {
   "codemirror_mode": {
    "name": "ipython",
    "version": 3
   },
   "file_extension": ".py",
   "mimetype": "text/x-python",
   "name": "python",
   "nbconvert_exporter": "python",
   "pygments_lexer": "ipython3",
   "version": "3.8.6-final"
  },
  "orig_nbformat": 2,
  "kernelspec": {
   "name": "python3",
   "display_name": "Python 3.8.6 64-bit",
   "metadata": {
    "interpreter": {
     "hash": "9fed1009c583440f4176cd6d018ba98dbd17aba1f8bcd5e1403cb920599613f1"
    }
   }
  }
 },
 "nbformat": 4,
 "nbformat_minor": 2,
 "cells": [
  {
   "cell_type": "code",
   "execution_count": 1,
   "metadata": {},
   "outputs": [],
   "source": [
    "from mad import *"
   ]
  },
  {
   "cell_type": "code",
   "execution_count": 2,
   "metadata": {},
   "outputs": [],
   "source": [
    "form = \"domanda-messa-a-disposizione.docx\"\n",
    "lista_scuole = \"Elenco Scuole Statali senza duplicati 2020-21.csv\""
   ]
  },
  {
   "cell_type": "code",
   "execution_count": 3,
   "metadata": {},
   "outputs": [
    {
     "output_type": "stream",
     "name": "stdout",
     "text": [
      "Verranno utilizzati i file di default per la generazione dei form e per la lista delle scuole.\n"
     ]
    }
   ],
   "source": [
    "print(\"Verranno utilizzati i file di default per la generazione dei form e per la lista delle scuole.\")"
   ]
  },
  {
   "cell_type": "code",
   "execution_count": 4,
   "metadata": {},
   "outputs": [],
   "source": [
    "document = Document(form)\n",
    "scuole = open(lista_scuole)\n",
    "with open('user_data.json', 'r') as fp:\n",
    "    user_data = json.load(fp)\n",
    "lista = pandas.read_csv(lista_scuole, sep= \";\", header=0)"
   ]
  },
  {
   "cell_type": "code",
   "execution_count": 5,
   "metadata": {},
   "outputs": [],
   "source": [
    "regione = input(\"inserire la regione di interesse\").upper()\n",
    "provincia = input(\"inserire la provincia di interesse\").upper()"
   ]
  },
  {
   "cell_type": "code",
   "execution_count": 6,
   "metadata": {},
   "outputs": [],
   "source": [
    "target = flitered_list(lista, REGIONE = regione, PROVINCIA = provincia)"
   ]
  },
  {
   "cell_type": "code",
   "execution_count": 7,
   "metadata": {},
   "outputs": [],
   "source": [
    "create_docs(lista, document, user_data, target)"
   ]
  },
  {
   "cell_type": "code",
   "execution_count": 8,
   "metadata": {},
   "outputs": [
    {
     "output_type": "execute_result",
     "data": {
      "text/plain": [
       "[['G. GALILEI', 'ctic81200g@pec.istruzione.it'],\n",
       " ['SMS GUZZARDI - ADRANO', 'CTIC8A100Q@istruzione.it'],\n",
       " ['ITALO CALVINO - LEUCATIA', 'CTIC89700G@istruzione.it'],\n",
       " ['I.C. C.B. CAVOUR', 'CTIC8A700P@istruzione.it'],\n",
       " ['VIA DEGLI STUDI', 'CTEE06700T@istruzione.it'],\n",
       " ['C.D. G.FAVA-PLESSO - TIMPARELLO', 'CTEE06100V@istruzione.it'],\n",
       " ['CATANIA', 'CTVC06000P@istruzione.it'],\n",
       " ['2 CIRCOLO SCUOLA IN OSPEDALE', 'CTEE04600R@istruzione.it'],\n",
       " ['MAZZINI', 'CTEE04800C@istruzione.it'],\n",
       " ['VIA MERLINO', 'CTEE008002@istruzione.it'],\n",
       " ['SANTA GIOVANNA ANTIDA', 'CTEE073005@istruzione.it'],\n",
       " ['VIA MAIORANA', 'CTEE036006@istruzione.it'],\n",
       " ['VIA G.LEOPARDI', 'CTEE022008@istruzione.it'],\n",
       " ['VIA VULCANO', 'CTEE06800N@istruzione.it'],\n",
       " ['VIA P. LUPO', 'CTEE06900D@istruzione.it'],\n",
       " ['CD RAPISARDI CATANIA', 'CTEE01700R@istruzione.it'],\n",
       " ['PRESIDIO OSPED. DI BRONTE N. SPEDALIERI', 'CTEE04700L@istruzione.it'],\n",
       " ['CD SA LI BATTIATI BARRIERANUOVA', 'CTEE087003@istruzione.it'],\n",
       " ['S. GIOVANNI BOSCO', 'CTEE045001@istruzione.it'],\n",
       " ['SETTEBELLO SUD', 'CTEE081004@istruzione.it'],\n",
       " ['C.D M.T. DI CALCUTTA BELPASSO', 'CTEE044005@istruzione.it'],\n",
       " ['MALOPASSO', 'CTEE08300Q@istruzione.it'],\n",
       " ['C.D.ANNESSO CONV.CUTELLI', 'CTEE028007@istruzione.it'],\n",
       " ['SCUOLA CARCERARIA', 'CTMM150008@istruzione.it'],\n",
       " ['I.C. PITAGORA', 'CTMM151004@istruzione.it'],\n",
       " ['SCIENTIFICO BELPASSO', 'CTIS016003@istruzione.it'],\n",
       " ['PIANO CUGNI', 'CTIC8AJ00Q@istruzione.it'],\n",
       " ['GIARRE', 'CTVC04000D@istruzione.it'],\n",
       " ['GIOVANNI BLANDINI', 'ctic8a5003@pec.istruzione.it'],\n",
       " ['LICEO CLASSICO GULLI E PENNISI', 'CTIS044007@istruzione.it'],\n",
       " ['C.D. S.GIUFFRIDA', 'CTEE04200D@istruzione.it'],\n",
       " [\"I - I.C. FABRIZIO DE ANDRE'\", 'ctic8ar00a@pec.istruzione.it'],\n",
       " ['VIA GALVANI', 'CTIC8AT00B@istruzione.it'],\n",
       " ['PLESSO ARCHIMEDE', 'CTIC89100L@istruzione.it'],\n",
       " ['VIA TEANO', 'CTIC8AM007@istruzione.it'],\n",
       " ['VIA TRIESTE', 'CTIC8A4007@istruzione.it'],\n",
       " ['I.C. SALVO BASSO', 'ctic8ap00p@pec.istruzione.it'],\n",
       " ['VIA PLEBISCITO N. 784', 'CTIC89800B@istruzione.it'],\n",
       " ['ISTITUTO COMPRENSIVO', 'CTIC80900Q@istruzione.it'],\n",
       " ['I.C. FONTANAROSSA - GORETTI', 'CTIC86700Q@istruzione.it'],\n",
       " ['SCUOLA PRIMARIA GRANIERI', 'CTIC822006@istruzione.it'],\n",
       " ['GIOVANNI PAOLO II', 'CTIC8BA00A@istruzione.it'],\n",
       " ['M. MARANO', 'CTIC8AL00B@istruzione.it'],\n",
       " ['POLIFUNZIONALE', 'CTIC88800R@istruzione.it'],\n",
       " ['VIALE AUTONOMIA', 'CTIC8AX00P@istruzione.it'],\n",
       " ['CARRABBA', 'CTIC8AK00G@istruzione.it'],\n",
       " [\"IC D'ANNUNZIO MOTTA S.A\", 'CTIC83700X@istruzione.it'],\n",
       " ['CD P.S.DI GUARDO -V S. MATTEO', 'CTIC8AG00P@istruzione.it'],\n",
       " ['I.C. PITAGORA', 'CTIC88200T@istruzione.it'],\n",
       " ['I.C. PIZZIGONI - CARDUCCI', 'CTIC8A900A@ISTRUZIONE.IT'],\n",
       " ['S.M. SANTA VENERINA', 'CTIC8AQ00E@istruzione.it'],\n",
       " ['VIA LIOY', 'CTIC8A800E@istruzione.it'],\n",
       " ['CASTELLO', 'CTIC82600D@istruzione.it'],\n",
       " ['I.C. VITTORINI-S.P.CLARENZA', 'ctic85300t@pec.istruzione.it'],\n",
       " ['I.C.ERCOLE PATTI TRECASTAGNI', 'ctic857005@pec.istruzione.it'],\n",
       " ['S.M. 1? I. C.G.RUSSO GIARRE', 'CTIC8AY00E@istruzione.it'],\n",
       " ['SCUOLA SEC. I GRADO G. VERGA', 'CTIC8AN003@istruzione.it'],\n",
       " ['I.C.S. GIOVANNI PAOLO II', 'CTIC81300B@istruzione.it'],\n",
       " ['I.C.S. GIOVANNI VERGA', 'ctic85900r@pec.istruzione.it'],\n",
       " ['ENRICO FERMI', 'CTIS03900Q@istruzione.it'],\n",
       " ['I.I.S.LICEO C.MARCHESI CL./SC.', 'CTIS02600N@istruzione.it'],\n",
       " ['I.P.S.S.E.O.A. KAROL WOJTYLA CATANIA', 'ctrh03000c@pec.istruzione.it'],\n",
       " ['IPSIA MAIORANA + SABIN', 'CTIS04600V@istruzione.it'],\n",
       " ['I.S. MAJORANA-ARCOLEO', 'ctis04900a@pec.istruzione.it'],\n",
       " ['ITC DE FELICE GIUFFRIDA', 'CTIS03400L@istruzione.it'],\n",
       " ['F.EREDIA CORSO SERALE', 'CTIS03800X@istruzione.it'],\n",
       " ['IPSIA ORA I.S. MAJORANA-MEUCCI', 'CTIS03300R@istruzione.it'],\n",
       " ['I.S. ITN-ITG-IPS RIPOSTO', 'ctis01300g@pec.istruzione.it'],\n",
       " ['ITI RAMACCA', 'CTIS04200G@istruzione.it'],\n",
       " ['I.S. SECUSIO CALTAGIRONE', 'ctis04700p@pec.istruzione.it'],\n",
       " ['DUCA DEGLI ABRUZZI', 'CTIS007008@istruzione.it'],\n",
       " ['I.T.E.GIOACCHINO RUSSO', 'cttd160007@pec.istruzione.it'],\n",
       " ['IC G. DELEDDA CATANIA', 'ctic8ac00b@pec.istruzione.it'],\n",
       " ['IC P.CARRERA - MILITELLO V.C.', 'ctic835008@pec.istruzione.it'],\n",
       " ['ANTONIO BRUNO', 'CTIC82000E@istruzione.it'],\n",
       " ['PLESSO SEMINI', 'CTIC82500N@istruzione.it'],\n",
       " ['SCUOLA PRIMARIA PLESSO DUSMET', 'CTIC83900G@istruzione.it'],\n",
       " ['PIANETA INFANZIA V.L CASTAGNOLA', 'CTIC86300C@istruzione.it'],\n",
       " ['CARLO LEVI - MANIACE', 'CTIC806008@istruzione.it'],\n",
       " ['VIA SALETTE', 'CTIC8AB00G@istruzione.it'],\n",
       " [\"C.D. COPPOLA-VIA MEDAGLIE D'ORO\", 'CTIC89600Q@istruzione.it'],\n",
       " ['IC D. SAVIO S.GREGORIO', 'CTIC852002@istruzione.it'],\n",
       " ['TRAPPETO CENTRO', 'CTIC84800A@istruzione.it'],\n",
       " ['SCUOLA MATERNA - VIA SOLFERINO', 'CTIC85000A@istruzione.it'],\n",
       " ['DON L.MILANI- MISTERBIANCO', 'CTIC88300N@istruzione.it'],\n",
       " ['PLESSO SAN GIUSEPPE', 'CTIC84500V@istruzione.it'],\n",
       " ['SECONDARIA DUSMET-DORIA', 'CTIC864008@istruzione.it'],\n",
       " ['EDMONDO DE AMICIS - RANDAZZO', 'CTIC84700E@istruzione.it'],\n",
       " ['F. DE ROBERTO - CATANIA', 'CTIC887001@istruzione.it'],\n",
       " ['PISANO', 'CTIC860001@istruzione.it'],\n",
       " ['F.GUGLIELMINO - ACICATENA', 'CTIC815003@istruzione.it'],\n",
       " ['VIA DEL SOLE MASSANNUNZIATA', 'CTIC83400C@istruzione.it'],\n",
       " ['NUNZIATELLA', 'CTIC880006@istruzione.it'],\n",
       " ['F. PETRARCA - LA CASA DI LAURA', 'CTIC87500P@istruzione.it'],\n",
       " ['R. RIMINI', 'CTIC81600V@istruzione.it'],\n",
       " ['PLESSO PIANO VITE', 'CTIC84200B@istruzione.it'],\n",
       " ['VIA PALERMO (EX GRILLI)', 'CTIC84100G@istruzione.it'],\n",
       " ['IC G. TOMASI DI LAMPEDUSA', 'ctic828005@pec.istruzione.it'],\n",
       " ['G.B. NICOLOSI', 'CTIC893008@istruzione.it'],\n",
       " ['I.C. MACHERIONE', 'CTIC82100A@istruzione.it'],\n",
       " ['PLESSO LE GINESTRE', 'CTIC885009@istruzione.it'],\n",
       " ['IC GABELLI MISTERBIANCO', 'ctic89000r@pec.istruzione.it'],\n",
       " ['IC GIOVANNI VERGA - VIAGRANDE', 'ctic856009@pec.istruzione.it'],\n",
       " ['DUCEZIO', 'CTIC81100Q@istruzione.it'],\n",
       " ['IC L.DA VINCI - MISTERBIANCO', 'ctic836004@pec.istruzione.it'],\n",
       " ['Non Disponibile', 'CTIC80300R@istruzione.it'],\n",
       " ['PLESSO VIA ROMA', 'CTIC8A300B@istruzione.it'],\n",
       " ['IC M. MONTESSORI - P.MASCAGNI', 'ctic8af00v@pec.istruzione.it'],\n",
       " ['IC M.PURRELLO - S.GREGORIO', 'ctic86100r@pec.istruzione.it'],\n",
       " ['VIA ANFUSO', 'CTIC894004@istruzione.it'],\n",
       " ['MAZZARRONE - G.BUFALINO', 'CTIC80800X@istruzione.it'],\n",
       " ['VALVERDE _ MAUGERI', 'CTIC85500D@istruzione.it'],\n",
       " ['OSPEDALE GRAVINA', 'CTIC823002@istruzione.it'],\n",
       " ['IC P.P. PIETRALCINA MISTERBIANC', 'CTIC88900L@istruzione.it'],\n",
       " ['VILL. S. AGATA Z/A', 'CTIC86200L@istruzione.it'],\n",
       " ['PIAZZA DEL POPOLO', 'CTIC83800Q@istruzione.it'],\n",
       " ['SM S.G. BOSCO', 'CTIC8AD007@istruzione.it'],\n",
       " ['I.C. S.GIORGIO INFAN.BORSELLINO', 'CTIC899007@istruzione.it'],\n",
       " ['VIA S.GIUSEPPE', 'CTIC814007@istruzione.it'],\n",
       " ['VIA PLAIA', 'CTIC8AE003@istruzione.it'],\n",
       " ['V.BRANCATI - CATANIA', 'CTIC886005@istruzione.it'],\n",
       " ['IC XX SETTEMBRE CATANIA', 'ctic89200c@pec.istruzione.it'],\n",
       " ['EDMONDO DE AMICIS - TREMESTIERI', 'CTIC858001@istruzione.it'],\n",
       " ['PATELLARO', 'CTEE043009@istruzione.it'],\n",
       " ['SMS A. DE GASPERI-ACI S.ANTONIO', 'CTIC8AS00G@istruzione.it'],\n",
       " ['CORSO ITALIA', 'CTIC830005@istruzione.it'],\n",
       " ['JEAN PIAGET', 'CTIC8AZ00A@istruzione.it'],\n",
       " ['VIA VITT.EMANUELE', 'CTIC8A200G@istruzione.it'],\n",
       " ['STAZZO', 'CTIC8AU007@istruzione.it'],\n",
       " ['C.D. III ADRANO', 'CTEE09000V@istruzione.it'],\n",
       " ['GIORGIO LA PIRA', 'CTIC8A000X@istruzione.it'],\n",
       " ['IIS ENRICO DE NICOLA - CORSO SIRIO', 'CTIS05100A@istruzione.it'],\n",
       " ['CUCUZZA-EUCLIDE - SEZ. ITA', 'CTIS00400R@istruzione.it'],\n",
       " ['LICEO SCIENZE UMANE', 'CTIS001009@istruzione.it'],\n",
       " ['BENEDETTO RADICE', 'CTIS01100X@istruzione.it'],\n",
       " ['IM REGINA ELENA', 'ctpm04000a@pec.istruzione.it'],\n",
       " ['IPSSAR GIOVANNI FALCONE', 'ctrh010007@pec.istruzione.it'],\n",
       " ['I.P.S.I.A C.A. DALLA CHIESA', 'CTIS024002@istruzione.it'],\n",
       " ['GEMMELLARO - TURISMO', 'CTIS023006@istruzione.it'],\n",
       " ['ENRICO MEDI', 'CTIS00600C@istruzione.it'],\n",
       " ['CORSO SERALE TURISMO', 'CTIS008004@istruzione.it'],\n",
       " ['G.B. VACCARINI - SERALE', 'CTIS01700V@istruzione.it'],\n",
       " ['ISTITUTO TECNICO INDUSTRIALE - IND. CHIM', 'CTIS01200Q@istruzione.it'],\n",
       " ['LICEO CLASSICO E ARTISTICO VEN.I CAPIZZI', 'CTIS00900X@istruzione.it'],\n",
       " ['ISTITUTO TECNICO ARCHIMEDE', 'CTTF01000G@istruzione.it'],\n",
       " ['ITAER A. FERRARIN', 'cttb01000a@pec.istruzione.it'],\n",
       " ['ITI CANNIZZARO', 'cttf03000r@pec.istruzione.it'],\n",
       " ['IV CIRCOLO PLESSO FERRETTI', 'CTIC8AV003@istruzione.it'],\n",
       " ['LC MARIO CUTELLI', 'ctpc040006@pec.istruzione.it'],\n",
       " ['LC CL.ANNESSO CONV.NAZ. CUTELLI', 'CTPC03000G@istruzione.it'],\n",
       " ['LC GIOVANNI VERGA', 'ctpc01000a@pec.istruzione.it'],\n",
       " ['LC SPEDALIERI', 'ctpc070002@pec.istruzione.it'],\n",
       " ['LICEO ARTISTICO  EMILIO GRECO CATANIA', 'ctsl01000a@pec.istruzione.it'],\n",
       " ['LICEO ARTISTICO STATALE M.M. LAZZARO', 'ctsd02000e@pec.istruzione.it'],\n",
       " ['LICEO SC. MAJORANA S.G.LA PUNTA', 'ctps10000q@pec.istruzione.it'],\n",
       " ['LICEO SCIENT/LINGUIST UMBERTO DI SAVOIA', 'ctps06000e@pec.istruzione.it'],\n",
       " ['LICEO STATALE G. TURRISI COLONNA', 'ctpm020005@pec.istruzione.it'],\n",
       " ['LICEO STATALE FRANCESCO DE SANCTIS', 'ctpm01000e@pec.istruzione.it'],\n",
       " ['LICEO STATALE SEZ. DIST. LOMBARDO RADICE', 'CTPM03000Q@istruzione.it'],\n",
       " ['LS ARCHIMEDE', 'ctps01000d@pec.istruzione.it'],\n",
       " ['LS BOGGIO LERA', 'ctps020004@pec.istruzione.it'],\n",
       " ['V. E. ORLANDO', 'CTIS04800E@istruzione.it'],\n",
       " ['LS FERMI', 'ctps03000p@pec.istruzione.it'],\n",
       " ['LS GALILEO GALILEI', 'ctps040009@pec.istruzione.it'],\n",
       " ['LS LEONARDO', 'ctps05000x@pec.istruzione.it'],\n",
       " ['MARCONI-MANGANO', 'CTIS04300B@pec.istruzione.it'],\n",
       " ['MARIO CUTELLI', 'ctvc01000n@pec.istruzione.it'],\n",
       " ['MUSCO', 'CTSL020001@istruzione.it'],\n",
       " ['MUSCO', 'CTIC881002@istruzione.it'],\n",
       " ['PESTALOZZI', 'CTRH060008@istruzione.it'],\n",
       " ['PIETRO BRANCHINA', 'cttd18000c@pec.istruzione.it'],\n",
       " ['ROCCO CHINNICI', 'CTRH05000N@pec.istruzione.it'],\n",
       " ['SANTE GIUFFRIDA', 'CTIC8A600V@istruzione.it'],\n",
       " ['-', 'CTIC83200R@istruzione.it'],\n",
       " ['SCUOLA SECONDARIA DI 1?GRADO', 'CTMM01300C@istruzione.it'],\n",
       " ['SMS D.ALIGHIERI - CATANIA', 'ctmm029002@pec.istruzione.it'],\n",
       " ['SMS GIUSEPPE MAZZINI - ADRANO', 'ctmm095001@pec.istruzione.it'],\n",
       " ['SMS L. CASTIGLIONE BRONTE', 'ctmm119008@pec.istruzione.it'],\n",
       " ['SMS LUIGI STURZO - BIANCAVILLA', 'ctmm099008@pec.istruzione.it'],\n",
       " ['SMS MARIO PLUCHINOTTA', 'ctmm064009@pec.istruzione.it'],\n",
       " ['SMS N. MARTOGLIO - BELPASSO', 'ctmm10300p@pec.istruzione.it'],\n",
       " ['SMS Q.MAIORANA - CATANIA', 'ctmm00300t@pec.istruzione.it'],\n",
       " ['SMS RAFFAELLOSANZIO-TREMESTIERI', 'ctmm06700r@pec.istruzione.it'],\n",
       " [\"SMS VIRGILIO - PATERNO'\", 'ctmm106006@pec.istruzione.it'],\n",
       " ['PAOLO VASTA - ACIREALE', 'CTIC81800E@istruzione.it'],\n",
       " ['VESPUCCI - CAPUANA PIRANDELLO', 'ctic8ah00e@pec.istruzione.it'],\n",
       " ['INFANZIA VIA FIRENZE EDIFIC.B', 'CTIC81900A@istruzione.it']]"
      ]
     },
     "metadata": {},
     "execution_count": 8
    }
   ],
   "source": [
    "target"
   ]
  },
  {
   "cell_type": "code",
   "execution_count": null,
   "metadata": {},
   "outputs": [],
   "source": []
  }
 ]
}